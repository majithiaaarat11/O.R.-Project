{
 "cells": [
  {
   "cell_type": "code",
   "execution_count": 3,
   "metadata": {},
   "outputs": [
    {
     "data": {
      "text/plain": [
       "MultinomialNB(alpha=1.0, class_prior=None, fit_prior=True)"
      ]
     },
     "execution_count": 3,
     "metadata": {},
     "output_type": "execute_result"
    }
   ],
   "source": [
    "import pandas as pd\n",
    "#nltk.download('stopwords')\n",
    "from nltk.corpus import stopwords\n",
    "from sklearn.feature_extraction.text import TfidfVectorizer\n",
    "from sklearn import naive_bayes\n",
    "import numpy as np\n",
    "from IPython.display import display                               \n",
    "from ipywidgets import interactive\n",
    "\n",
    "\n",
    "df = pd.read_csv(\"data.csv\")\n",
    "\n",
    "stopset = set(stopwords.words('english'))\n",
    "vectorizer = TfidfVectorizer(use_idf = True, lowercase = True, strip_accents = 'ascii', stop_words = stopset)\n",
    "ve = vectorizer\n",
    "y=df.Sentiment\n",
    "\n",
    "X = vectorizer.fit_transform(df.SentimentText)\n",
    "\n",
    "clf=naive_bayes.MultinomialNB()\n",
    "clf.fit(X,y)"
   ]
  },
  {
   "cell_type": "code",
   "execution_count": 4,
   "metadata": {
    "code_folding": []
   },
   "outputs": [
    {
     "name": "stdout",
     "output_type": "stream",
     "text": [
      "Press Enter when you are ready to write a review: \n"
     ]
    },
    {
     "data": {
      "application/vnd.jupyter.widget-view+json": {
       "model_id": "49028096930a4741b8eb3fbf92fe471c",
       "version_major": 2,
       "version_minor": 0
      },
      "text/plain": [
       "interactive(children=(Text(value='', description='Review'), Output()), _dom_classes=('widget-interact',))"
      ]
     },
     "metadata": {},
     "output_type": "display_data"
    }
   ],
   "source": [
    "import matplotlib.pyplot as plt\n",
    "import matplotlib.image as mpimg\n",
    "\n",
    "def ren(Review):\n",
    "    review_array = np.array([Review])\n",
    "    review_vector = ve.transform(review_array)\n",
    "    if(Review==\"\"):\n",
    "        print(\"Write something!\")\n",
    "    elif(clf.predict(review_vector)==0):\n",
    "        plt.imshow(mpimg.imread('t_d.jpg'))\n",
    "        plt.axis('off')\n",
    "    else:\n",
    "        plt.imshow(mpimg.imread('t_u.jpg'))\n",
    "        plt.axis('off')\n",
    "\n",
    "re = input(\"Press Enter when you are ready to write a review: \")\n",
    "\n",
    "inter = interactive(ren,\n",
    "                   Review = re)\n",
    "display(inter)"
   ]
  }
 ],
 "metadata": {
  "kernelspec": {
   "display_name": "Python 3",
   "language": "python",
   "name": "python3"
  },
  "language_info": {
   "codemirror_mode": {
    "name": "ipython",
    "version": 3
   },
   "file_extension": ".py",
   "mimetype": "text/x-python",
   "name": "python",
   "nbconvert_exporter": "python",
   "pygments_lexer": "ipython3",
   "version": "3.6.4"
  }
 },
 "nbformat": 4,
 "nbformat_minor": 2
}
